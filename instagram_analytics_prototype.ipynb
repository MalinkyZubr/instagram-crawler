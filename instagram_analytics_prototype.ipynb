{
 "cells": [
  {
   "cell_type": "code",
   "execution_count": 4,
   "metadata": {},
   "outputs": [],
   "source": [
    "import pandas as pd\n",
    "import numpy as np\n",
    "import matplotlib.pyplot as plt\n",
    "import matplotlib\n",
    "from py2neo import Graph\n",
    "import instaloader\n"
   ]
  },
  {
   "cell_type": "code",
   "execution_count": 5,
   "metadata": {},
   "outputs": [],
   "source": [
    "# initialize the database\n"
   ]
  },
  {
   "cell_type": "code",
   "execution_count": 8,
   "metadata": {},
   "outputs": [
    {
     "name": "stdout",
     "output_type": "stream",
     "text": [
      "LOGIN SUCCESS\n"
     ]
    }
   ],
   "source": [
    "L = instaloader.Instaloader()\n",
    "L.login('analytics9155', 'Bossic26')\n",
    "print(\"LOGIN SUCCESS\")"
   ]
  },
  {
   "cell_type": "code",
   "execution_count": 9,
   "metadata": {},
   "outputs": [
    {
     "name": "stdout",
     "output_type": "stream",
     "text": [
      "luke.m.monson\n"
     ]
    },
    {
     "data": {
      "text/plain": [
       "<function print>"
      ]
     },
     "execution_count": 9,
     "metadata": {},
     "output_type": "execute_result"
    }
   ],
   "source": [
    "profile = instaloader.Profile.from_username(L.context, 'luke.m.monson')\n",
    "print(profile.username)\n",
    "print"
   ]
  },
  {
   "cell_type": "code",
   "execution_count": 10,
   "metadata": {},
   "outputs": [
    {
     "name": "stdout",
     "output_type": "stream",
     "text": [
      "False\n"
     ]
    }
   ],
   "source": [
    "print(profile.is_private)"
   ]
  },
  {
   "cell_type": "code",
   "execution_count": 11,
   "metadata": {},
   "outputs": [
    {
     "name": "stdout",
     "output_type": "stream",
     "text": [
      "Followers and followees retrieved\n"
     ]
    }
   ],
   "source": [
    "followers_unprocessed = profile.get_followers()\n",
    "followees_unprocessed = profile.get_followees()\n",
    "print(\"Followers and followees retrieved\")"
   ]
  },
  {
   "cell_type": "code",
   "execution_count": 12,
   "metadata": {},
   "outputs": [
    {
     "name": "stdout",
     "output_type": "stream",
     "text": [
      "followers and followees processed\n"
     ]
    }
   ],
   "source": [
    "followers = (user for user in followers_unprocessed)\n",
    "following = (user for user in followees_unprocessed)\n",
    "print(\"followers and followees processed\")"
   ]
  },
  {
   "cell_type": "code",
   "execution_count": 120,
   "metadata": {},
   "outputs": [
    {
     "name": "stdout",
     "output_type": "stream",
     "text": [
      "<class 'generator'>\n"
     ]
    }
   ],
   "source": [
    "print(type(followers))"
   ]
  },
  {
   "cell_type": "code",
   "execution_count": 112,
   "metadata": {},
   "outputs": [
    {
     "name": "stdout",
     "output_type": "stream",
     "text": [
      "<generator object <genexpr> at 0x0000022148CFFCA0>\n"
     ]
    },
    {
     "ename": "KeyboardInterrupt",
     "evalue": "",
     "output_type": "error",
     "traceback": [
      "\u001b[1;31m---------------------------------------------------------------------------\u001b[0m",
      "\u001b[1;31mKeyboardInterrupt\u001b[0m                         Traceback (most recent call last)",
      "\u001b[1;32m~\\AppData\\Local\\Temp/ipykernel_15108/1686962126.py\u001b[0m in \u001b[0;36m<module>\u001b[1;34m\u001b[0m\n\u001b[0;32m      1\u001b[0m \u001b[0mprint\u001b[0m\u001b[1;33m(\u001b[0m\u001b[0mfollowers\u001b[0m\u001b[1;33m)\u001b[0m\u001b[1;33m\u001b[0m\u001b[1;33m\u001b[0m\u001b[0m\n\u001b[1;32m----> 2\u001b[1;33m \u001b[0mfollowers_processed\u001b[0m \u001b[1;33m=\u001b[0m \u001b[0mnp\u001b[0m\u001b[1;33m.\u001b[0m\u001b[0mfromiter\u001b[0m\u001b[1;33m(\u001b[0m\u001b[0mfollowers\u001b[0m\u001b[1;33m,\u001b[0m \u001b[0mdtype\u001b[0m\u001b[1;33m=\u001b[0m\u001b[1;34m'S128'\u001b[0m\u001b[1;33m)\u001b[0m\u001b[1;33m\u001b[0m\u001b[1;33m\u001b[0m\u001b[0m\n\u001b[0m\u001b[0;32m      3\u001b[0m \u001b[1;31m#following = [x for x in followees_unprocessed]\u001b[0m\u001b[1;33m\u001b[0m\u001b[1;33m\u001b[0m\u001b[0m\n\u001b[0;32m      4\u001b[0m \u001b[0mprint\u001b[0m\u001b[1;33m(\u001b[0m\u001b[1;34m\"followers and followees processed\"\u001b[0m\u001b[1;33m)\u001b[0m\u001b[1;33m\u001b[0m\u001b[1;33m\u001b[0m\u001b[0m\n",
      "\u001b[1;32m~\\AppData\\Local\\Temp/ipykernel_15108/1291059135.py\u001b[0m in \u001b[0;36m<genexpr>\u001b[1;34m(.0)\u001b[0m\n\u001b[1;32m----> 1\u001b[1;33m \u001b[0mfollowers\u001b[0m \u001b[1;33m=\u001b[0m \u001b[1;33m(\u001b[0m\u001b[0muser\u001b[0m \u001b[1;32mfor\u001b[0m \u001b[0muser\u001b[0m \u001b[1;32min\u001b[0m \u001b[0mfollowers_unprocessed\u001b[0m\u001b[1;33m)\u001b[0m\u001b[1;33m\u001b[0m\u001b[1;33m\u001b[0m\u001b[0m\n\u001b[0m\u001b[0;32m      2\u001b[0m \u001b[0mfollowing\u001b[0m \u001b[1;33m=\u001b[0m \u001b[1;33m(\u001b[0m\u001b[0muser\u001b[0m \u001b[1;32mfor\u001b[0m \u001b[0muser\u001b[0m \u001b[1;32min\u001b[0m \u001b[0mfollowees_unprocessed\u001b[0m\u001b[1;33m)\u001b[0m\u001b[1;33m\u001b[0m\u001b[1;33m\u001b[0m\u001b[0m\n\u001b[0;32m      3\u001b[0m \u001b[0mprint\u001b[0m\u001b[1;33m(\u001b[0m\u001b[1;34m\"followers and followees processed\"\u001b[0m\u001b[1;33m)\u001b[0m\u001b[1;33m\u001b[0m\u001b[1;33m\u001b[0m\u001b[0m\n",
      "\u001b[1;32m~\\AppData\\Roaming\\Python\\Python310\\site-packages\\instaloader\\nodeiterator.py\u001b[0m in \u001b[0;36m__next__\u001b[1;34m(self)\u001b[0m\n\u001b[0;32m    139\u001b[0m             \u001b[1;32mreturn\u001b[0m \u001b[0mitem\u001b[0m\u001b[1;33m\u001b[0m\u001b[1;33m\u001b[0m\u001b[0m\n\u001b[0;32m    140\u001b[0m         \u001b[1;32mif\u001b[0m \u001b[0mself\u001b[0m\u001b[1;33m.\u001b[0m\u001b[0m_data\u001b[0m\u001b[1;33m[\u001b[0m\u001b[1;34m'page_info'\u001b[0m\u001b[1;33m]\u001b[0m\u001b[1;33m[\u001b[0m\u001b[1;34m'has_next_page'\u001b[0m\u001b[1;33m]\u001b[0m\u001b[1;33m:\u001b[0m\u001b[1;33m\u001b[0m\u001b[1;33m\u001b[0m\u001b[0m\n\u001b[1;32m--> 141\u001b[1;33m             \u001b[0mquery_response\u001b[0m \u001b[1;33m=\u001b[0m \u001b[0mself\u001b[0m\u001b[1;33m.\u001b[0m\u001b[0m_query\u001b[0m\u001b[1;33m(\u001b[0m\u001b[0mself\u001b[0m\u001b[1;33m.\u001b[0m\u001b[0m_data\u001b[0m\u001b[1;33m[\u001b[0m\u001b[1;34m'page_info'\u001b[0m\u001b[1;33m]\u001b[0m\u001b[1;33m[\u001b[0m\u001b[1;34m'end_cursor'\u001b[0m\u001b[1;33m]\u001b[0m\u001b[1;33m)\u001b[0m\u001b[1;33m\u001b[0m\u001b[1;33m\u001b[0m\u001b[0m\n\u001b[0m\u001b[0;32m    142\u001b[0m             \u001b[1;32mif\u001b[0m \u001b[0mself\u001b[0m\u001b[1;33m.\u001b[0m\u001b[0m_data\u001b[0m\u001b[1;33m[\u001b[0m\u001b[1;34m'edges'\u001b[0m\u001b[1;33m]\u001b[0m \u001b[1;33m!=\u001b[0m \u001b[0mquery_response\u001b[0m\u001b[1;33m[\u001b[0m\u001b[1;34m'edges'\u001b[0m\u001b[1;33m]\u001b[0m \u001b[1;32mand\u001b[0m \u001b[0mlen\u001b[0m\u001b[1;33m(\u001b[0m\u001b[0mquery_response\u001b[0m\u001b[1;33m[\u001b[0m\u001b[1;34m'edges'\u001b[0m\u001b[1;33m]\u001b[0m\u001b[1;33m)\u001b[0m \u001b[1;33m>\u001b[0m \u001b[1;36m0\u001b[0m\u001b[1;33m:\u001b[0m\u001b[1;33m\u001b[0m\u001b[1;33m\u001b[0m\u001b[0m\n\u001b[0;32m    143\u001b[0m                 \u001b[0mpage_index\u001b[0m\u001b[1;33m,\u001b[0m \u001b[0mdata\u001b[0m \u001b[1;33m=\u001b[0m \u001b[0mself\u001b[0m\u001b[1;33m.\u001b[0m\u001b[0m_page_index\u001b[0m\u001b[1;33m,\u001b[0m \u001b[0mself\u001b[0m\u001b[1;33m.\u001b[0m\u001b[0m_data\u001b[0m\u001b[1;33m\u001b[0m\u001b[1;33m\u001b[0m\u001b[0m\n",
      "\u001b[1;32m~\\AppData\\Roaming\\Python\\Python310\\site-packages\\instaloader\\nodeiterator.py\u001b[0m in \u001b[0;36m_query\u001b[1;34m(self, after)\u001b[0m\n\u001b[0;32m    101\u001b[0m         \u001b[1;32mtry\u001b[0m\u001b[1;33m:\u001b[0m\u001b[1;33m\u001b[0m\u001b[1;33m\u001b[0m\u001b[0m\n\u001b[0;32m    102\u001b[0m             data = self._edge_extractor(\n\u001b[1;32m--> 103\u001b[1;33m                 self._context.graphql_query(\n\u001b[0m\u001b[0;32m    104\u001b[0m                     \u001b[0mself\u001b[0m\u001b[1;33m.\u001b[0m\u001b[0m_query_hash\u001b[0m\u001b[1;33m,\u001b[0m \u001b[1;33m{\u001b[0m\u001b[1;33m**\u001b[0m\u001b[0mself\u001b[0m\u001b[1;33m.\u001b[0m\u001b[0m_query_variables\u001b[0m\u001b[1;33m,\u001b[0m \u001b[1;33m**\u001b[0m\u001b[0mpagination_variables\u001b[0m\u001b[1;33m}\u001b[0m\u001b[1;33m,\u001b[0m \u001b[0mself\u001b[0m\u001b[1;33m.\u001b[0m\u001b[0m_query_referer\u001b[0m\u001b[1;33m\u001b[0m\u001b[1;33m\u001b[0m\u001b[0m\n\u001b[0;32m    105\u001b[0m                 )\n",
      "\u001b[1;32m~\\AppData\\Roaming\\Python\\Python310\\site-packages\\instaloader\\instaloadercontext.py\u001b[0m in \u001b[0;36mgraphql_query\u001b[1;34m(self, query_hash, variables, referer, rhx_gis)\u001b[0m\n\u001b[0;32m    426\u001b[0m                 \u001b[0mtmpsession\u001b[0m\u001b[1;33m.\u001b[0m\u001b[0mheaders\u001b[0m\u001b[1;33m[\u001b[0m\u001b[1;34m'x-instagram-gis'\u001b[0m\u001b[1;33m]\u001b[0m \u001b[1;33m=\u001b[0m \u001b[0mx_instagram_gis\u001b[0m\u001b[1;33m\u001b[0m\u001b[1;33m\u001b[0m\u001b[0m\n\u001b[0;32m    427\u001b[0m \u001b[1;33m\u001b[0m\u001b[0m\n\u001b[1;32m--> 428\u001b[1;33m             resp_json = self.get_json('graphql/query',\n\u001b[0m\u001b[0;32m    429\u001b[0m                                       params={'query_hash': query_hash,\n\u001b[0;32m    430\u001b[0m                                               'variables': variables_json},\n",
      "\u001b[1;32m~\\AppData\\Roaming\\Python\\Python310\\site-packages\\instaloader\\instaloadercontext.py\u001b[0m in \u001b[0;36mget_json\u001b[1;34m(self, path, params, host, session, _attempt)\u001b[0m\n\u001b[0;32m    316\u001b[0m         \u001b[0msess\u001b[0m \u001b[1;33m=\u001b[0m \u001b[0msession\u001b[0m \u001b[1;32mif\u001b[0m \u001b[0msession\u001b[0m \u001b[1;32melse\u001b[0m \u001b[0mself\u001b[0m\u001b[1;33m.\u001b[0m\u001b[0m_session\u001b[0m\u001b[1;33m\u001b[0m\u001b[1;33m\u001b[0m\u001b[0m\n\u001b[0;32m    317\u001b[0m         \u001b[1;32mtry\u001b[0m\u001b[1;33m:\u001b[0m\u001b[1;33m\u001b[0m\u001b[1;33m\u001b[0m\u001b[0m\n\u001b[1;32m--> 318\u001b[1;33m             \u001b[0mself\u001b[0m\u001b[1;33m.\u001b[0m\u001b[0mdo_sleep\u001b[0m\u001b[1;33m(\u001b[0m\u001b[1;33m)\u001b[0m\u001b[1;33m\u001b[0m\u001b[1;33m\u001b[0m\u001b[0m\n\u001b[0m\u001b[0;32m    319\u001b[0m             \u001b[1;32mif\u001b[0m \u001b[0mis_graphql_query\u001b[0m\u001b[1;33m:\u001b[0m\u001b[1;33m\u001b[0m\u001b[1;33m\u001b[0m\u001b[0m\n\u001b[0;32m    320\u001b[0m                 \u001b[0mself\u001b[0m\u001b[1;33m.\u001b[0m\u001b[0m_rate_controller\u001b[0m\u001b[1;33m.\u001b[0m\u001b[0mwait_before_query\u001b[0m\u001b[1;33m(\u001b[0m\u001b[0mparams\u001b[0m\u001b[1;33m[\u001b[0m\u001b[1;34m'query_hash'\u001b[0m\u001b[1;33m]\u001b[0m\u001b[1;33m)\u001b[0m\u001b[1;33m\u001b[0m\u001b[1;33m\u001b[0m\u001b[0m\n",
      "\u001b[1;32m~\\AppData\\Roaming\\Python\\Python310\\site-packages\\instaloader\\instaloadercontext.py\u001b[0m in \u001b[0;36mdo_sleep\u001b[1;34m(self)\u001b[0m\n\u001b[0;32m    296\u001b[0m         \u001b[1;34m\"\"\"Sleep a short time if self.sleep is set. Called before each request to instagram.com.\"\"\"\u001b[0m\u001b[1;33m\u001b[0m\u001b[1;33m\u001b[0m\u001b[0m\n\u001b[0;32m    297\u001b[0m         \u001b[1;32mif\u001b[0m \u001b[0mself\u001b[0m\u001b[1;33m.\u001b[0m\u001b[0msleep\u001b[0m\u001b[1;33m:\u001b[0m\u001b[1;33m\u001b[0m\u001b[1;33m\u001b[0m\u001b[0m\n\u001b[1;32m--> 298\u001b[1;33m             \u001b[0mtime\u001b[0m\u001b[1;33m.\u001b[0m\u001b[0msleep\u001b[0m\u001b[1;33m(\u001b[0m\u001b[0mmin\u001b[0m\u001b[1;33m(\u001b[0m\u001b[0mrandom\u001b[0m\u001b[1;33m.\u001b[0m\u001b[0mexpovariate\u001b[0m\u001b[1;33m(\u001b[0m\u001b[1;36m0.6\u001b[0m\u001b[1;33m)\u001b[0m\u001b[1;33m,\u001b[0m \u001b[1;36m15.0\u001b[0m\u001b[1;33m)\u001b[0m\u001b[1;33m)\u001b[0m\u001b[1;33m\u001b[0m\u001b[1;33m\u001b[0m\u001b[0m\n\u001b[0m\u001b[0;32m    299\u001b[0m \u001b[1;33m\u001b[0m\u001b[0m\n\u001b[0;32m    300\u001b[0m     def get_json(self, path: str, params: Dict[str, Any], host: str = 'www.instagram.com',\n",
      "\u001b[1;31mKeyboardInterrupt\u001b[0m: "
     ]
    }
   ],
   "source": [
    "print(followers)\n",
    "followers_processed = np.fromiter(followers, dtype='S128')\n",
    "#following = [x for x in followees_unprocessed]\n",
    "print(\"followers and followees processed\")"
   ]
  },
  {
   "cell_type": "code",
   "execution_count": 121,
   "metadata": {},
   "outputs": [
    {
     "name": "stdout",
     "output_type": "stream",
     "text": [
      "[<Profile madi.crawford1 (42857178268)>, <Profile mandy.m.james (9641608090)>, <Profile xaavazell (53736206613)>, <Profile julie.morales17 (8230910498)>, <Profile barbara_burke_123 (53453124886)>, <Profile georgia.williams058 (5636352665)>, <Profile lala__1019 (1630889783)>, <Profile josefrutos15 (6147081746)>, <Profile allison.e.larkins (53200756326)>, <Profile matt.meyer03 (53589091887)>, <Profile gretchenvoyer (9269121977)>, <Profile collinn0 (44507318552)>, <Profile gwen_kyle2022 (2291147501)>, <Profile fialynn_good (4176324796)>, <Profile iamstephanieray (33712145994)>, <Profile jaziaftabi (53156846861)>, <Profile staycelowry (4757206578)>, <Profile lucas_davier22 (51799201405)>, <Profile jack.desplinter (50229982591)>, <Profile pozzo_live (3017364373)>, <Profile andrew_s_2023 (22965601879)>, <Profile kristine._.32 (15604489825)>, <Profile elise.early (8270122264)>, <Profile sydneyschmn (4768181636)>, <Profile thomaszgonzales (48481112765)>, <Profile greyson_moreno (26171026361)>, <Profile l.d.___.b.l (8977982850)>, <Profile wnsiknd (40844630695)>, <Profile guitarras2022 (51933991264)>, <Profile lucietiger.music_ab (44264947992)>, <Profile katarina.beans (9293214083)>, <Profile jake.mccraryy (6129040418)>, <Profile austin.goodpaster (1809326565)>, <Profile tyler.russell52 (6902295722)>, <Profile jserrasleeping (15376694744)>, <Profile luke_krolo (3676361081)>, <Profile jason_somogyi.37 (36418226255)>, <Profile chaney5._ (4168701269)>, <Profile talan_tiny_72 (8384025174)>, <Profile ghessler34 (4501817392)>, <Profile jake_ere (3970833865)>, <Profile mush_59 (9674464299)>, <Profile langdon562 (32228079750)>, <Profile gio_bucolico (44537534216)>, <Profile rzabran (15964202)>, <Profile sofiaaroy (8003018266)>, <Profile cash_feldkamp (14665578281)>, <Profile colemckechs (47328785983)>, <Profile chaselynn_ (2236360514)>, <Profile seth_davis_92 (49454203054)>, <Profile _elizabeth_.gonzalez2a (11344919566)>, <Profile nick.guevaraa (9638252035)>, <Profile alex.zabran (3261703878)>, <Profile kainoa._.davis (8733740637)>, <Profile its_not_shea (16669924496)>, <Profile hugo_hart12 (22495596436)>, <Profile cate.alexanderr (3056321661)>, <Profile devthoms (48871726446)>, <Profile f.leocadio.stebar (2419586447)>, <Profile juliya_juliya____ (40273388164)>, <Profile dbwhite_28 (8740520975)>, <Profile grace.medina_ (22905058327)>, <Profile ryanhagerty_ (16649135439)>, <Profile l.webb10x (43829756129)>, <Profile thom.as05 (7179257343)>, <Profile duncanstarkenburg (12627152885)>, <Profile davidtonumaipea (10609943892)>, <Profile jayden.kelsch (9152036424)>, <Profile xiggy_g_12 (48290891497)>, <Profile joseph._lambert (48326764206)>, <Profile rayang357 (48783875790)>, <Profile westsidedigg (7186907569)>, <Profile hudsonbyrnee (48442982605)>, <Profile will_briggs52 (17600983807)>, <Profile colinmckown (12045874604)>, <Profile jake_pacheco4 (10258139393)>, <Profile diz_drums (18095338770)>, <Profile seattle_rocks (2719377488)>, <Profile jkswim1 (5847630949)>, <Profile siena_lambert (8359518371)>, <Profile laur.kingg (48254015008)>, <Profile austinmichel2 (24399253588)>, <Profile farahaslamyar (1988402352)>, <Profile jakebourne._ (5463578421)>, <Profile avaknebl (10226830619)>, <Profile katee.mulvihill (29617490301)>, <Profile alex_jordan.at (45543829038)>, <Profile peteeeeeeerrrrrrrrrr (6610853106)>, <Profile scott_mcknight21 (47856462630)>, <Profile william_mai14 (8714310915)>, <Profile lobowes (7864778296)>, <Profile jagger_prewett (8955541578)>, <Profile _alexlugosi (5338287213)>, <Profile lindsey.nhughes (48078666771)>, <Profile _bear.harrison (9641484547)>, <Profile braden__wellen (4177077551)>, <Profile andrewwalker675 (21739494020)>, <Profile charliecaruso_ (33791525638)>, <Profile kasmalahicnybobr (44167807881)>, <Profile gio.cozzetto (29474295699)>, <Profile rynoedwards (538747798)>, <Profile shaughnesssy_h (14210327156)>, <Profile gideljacob (2073744875)>, <Profile harlow.pat (29387271038)>, <Profile griiiiiiiffin (6245299666)>, <Profile dominic.corado (3107811499)>, <Profile bassam.hajjawi (47355945538)>, <Profile thordadrocks (8287345719)>, <Profile wavejamtracks (6342481543)>, <Profile 4k.jordann (3042006414)>, <Profile emma.8725 (8235918093)>, <Profile amandaeverettttt (5745347090)>, <Profile carsonnatzke_ (7408619041)>, <Profile willmcclenahan (5884669474)>, <Profile zo11nick (1686366052)>, <Profile 5_eddy (1503481788)>, <Profile dmills14_ (2166433060)>, <Profile gunnarxwright (5794089206)>, <Profile michelancho (5425933466)>, <Profile delaney._.mills (11193768424)>, <Profile maxuhtrillion (5610159856)>, <Profile mikey.p27 (815217521)>, <Profile angelicazizzo_ (45432757534)>, <Profile ronan_goes_outside (44997095889)>, <Profile fuzzyeah (2330754836)>, <Profile micaela.martz (16801438430)>, <Profile music_with_snakeman (31692172562)>, <Profile peyton.guarino (4979468901)>, <Profile ariesvhooper (44973033869)>, <Profile q_and_r_fishing (15869056376)>, <Profile pika.sato (4259138228)>, <Profile jenna_peyton555 (35650012318)>, <Profile jordanvelligan (398596377)>, <Profile samspedal (32211286687)>, <Profile bbnd2021 (45398138504)>, <Profile scoc_art (13141672025)>, <Profile gary.morrisonn (3549024921)>, <Profile voodooplayset (45184637565)>, <Profile johgcameron (44829287603)>, <Profile hoodie_tray15 (2205470006)>, <Profile boxer.dog.ins (40588673225)>, <Profile sean.ledyard (10655675708)>, <Profile t_.yas (3608320611)>, <Profile cameron_maloney (7376795034)>, <Profile jack_hayes941 (45168208580)>, <Profile fendervibes (43875590912)>, <Profile foreverbroke___ (26099881318)>, <Profile maddie_hall19 (25503939987)>, <Profile atomtonl (44374711684)>, <Profile ethancarpenter__ (6464058794)>, <Profile hutton.heil (44915857784)>, <Profile guitar_one_music (44512565435)>, <Profile brodie_purcell_39 (12967997941)>, <Profile shaun.mccaghren (5925276864)>, <Profile joie.cuevas (44500981773)>, <Profile troy.winningham (5797439017)>, <Profile sam_evv (14291987657)>, <Profile guitarist_voice (26181179781)>, <Profile joon_elisabeth (4018615716)>, <Profile chasejbarry (5426994763)>, <Profile _self_destruction_blues_ (32244757112)>, <Profile cambrealombardo (44114062640)>, <Profile gabriel_dresser (7099770541)>, <Profile pedalpimp (9782650252)>, <Profile mason_nelligan (44055958366)>, <Profile ashley_duls (41344608198)>, <Profile _lucky_francis_ (3696944275)>, <Profile delaney_belanger (1468362627)>, <Profile therealg40_ (12262985661)>, <Profile _rashad_51 (2152804947)>, <Profile jserra.baseball (40411490713)>, <Profile nicolaawilsonnn (3612852467)>, <Profile lauren__walcott (34619483958)>, <Profile angelica.zizzo (6332617640)>, <Profile c_dub_40 (1487515047)>, <Profile danny_day7 (43323343843)>, <Profile _nimasamini_ (16342508777)>, <Profile juliamessmer_ (32447634728)>, <Profile haha_u_fool (38257228729)>, <Profile drkarly_mrsneppl (4716644192)>, <Profile cristianpilimai (1365508112)>, <Profile lukeguttenberg (10915664976)>, <Profile graysonrosal (5513489575)>, <Profile dolan.oliveira (13761922306)>, <Profile saracjameson (4468154255)>, <Profile ysabellapadua (4875296401)>, <Profile max_imhoff33 (2042344633)>, <Profile robert.belli (6187204525)>, <Profile bigmanmurf (4010853944)>, <Profile lore.sills (4290825626)>, <Profile christianlaliberte18 (283739330)>, <Profile addison.barrette (7736247322)>, <Profile badcatamps (371354822)>, <Profile legendary_guitarist1 (40680241475)>, <Profile joeyytorrez (1431011478)>, <Profile jedimaster_jackmorris_ (7625527502)>, <Profile connor_yates22 (6555065709)>, <Profile starcartoonofficial (32788967614)>, <Profile ericriegs (3159995895)>, <Profile jjohnwagner (32906167430)>, <Profile jomcconi_0812 (40169510931)>, <Profile sana_sirna (10413802562)>, <Profile logan.wakeling (2278310001)>, <Profile alex.lopezzzx (38270039309)>, <Profile mtthw2000 (39157399636)>, <Profile virtualguitarlesson (39160702264)>, <Profile mattfritzmusic (9272667989)>, <Profile jaydensummers_04 (31494978092)>, <Profile elle_sterner (38307044344)>, <Profile kaitlinrue (15507696704)>, <Profile zachrmusic (296204853)>, <Profile lucy.donchess (35179857231)>, <Profile ethanfh19 (14275910695)>, <Profile drewstott.music (36276402356)>, <Profile grace_elizzabeth_ (36962949465)>, <Profile iceman_cris (5802484989)>, <Profile quickguitarvideos (34973780622)>, <Profile josephsanty_ (6042551623)>, <Profile couch_potato_ronan (1471917592)>, <Profile jakealves60 (36728063296)>, <Profile khalid_ait7779 (6688260855)>, <Profile miia.contreras (20193302943)>, <Profile _ava.noelle__ (36041347294)>, <Profile r3musicescola (15675266835)>, <Profile dylanduplanty (34717768437)>, <Profile ironsidecustomguitars (5151067266)>, <Profile drew__buffington (10742661672)>, <Profile voidwalkereffects (11705330132)>, <Profile johnnyrubberfingerz (33133772916)>, <Profile jonny_guitar_2012 (30880156861)>, <Profile thomasreeves9790 (7072509897)>, <Profile abbyviscount (31625539295)>, <Profile nihi578977 (17761208576)>, <Profile carebear568901 (3789457728)>, <Profile 143sumon (6341406392)>, <Profile faith.mcadaam (3571518976)>, <Profile parkerharrisonn (4043376092)>, <Profile ryannevillemidnightblues (5749499302)>, <Profile iadamt (32909369981)>, <Profile ashton_on_guitar (32492658369)>, <Profile hooman__1 (19060204157)>, <Profile calbneal (1197603865)>, <Profile seamusneppl (7427171175)>, <Profile unknowns.blues (6008470620)>, <Profile mariohuj (3139272187)>, <Profile ___r.a.d____ (22417320175)>, <Profile simosadoun (30661575101)>, <Profile alexandre_nascimento_01 (7280741453)>, <Profile jackingwersen (4786377423)>, <Profile adambalkhii (30610566828)>, <Profile mrmaxmarz (6674567779)>, <Profile willschattmaier (13370939675)>, <Profile 17thstmusicclub (27239135728)>, <Profile veraaschwartzaz (11561042219)>, <Profile cici_chengrt (4888473542)>, <Profile adrian.j.clark (20417254122)>, <Profile alx.jam.clrk (29600939215)>, <Profile coffeehouseguitars (8322045674)>, <Profile wendellsmusic (22821085337)>, <Profile jonny.fong (5816158114)>, <Profile charliedeng__ (4960932254)>, <Profile burton_audio (26998437225)>, <Profile dom_dicarlo123 (3688992881)>, <Profile annacuzick (9509665376)>, <Profile johsua_thomsa (4825161846)>, <Profile dillon_martin24 (6651071238)>, <Profile colinpleigh (5728861033)>, <Profile jack.leslie4 (9362252172)>, <Profile davidwmanning (7660942082)>, <Profile white_rice_dump (3646594278)>, <Profile brandon.yung (6047747076)>, <Profile dariusz.33 (14543401116)>, <Profile jackson_summers05 (6855117382)>, <Profile jayden_g_37 (14342699223)>, <Profile joecalo3 (4315303026)>, <Profile brendan.cruz (6289544651)>, <Profile cay.rector (11825066389)>, <Profile berniebabyyyy (27371584165)>, <Profile nickstroupe (18874051027)>, <Profile charliejennison (3142570408)>, <Profile dominique.regalado (11302018)>, <Profile ben_reimers9 (24014289652)>, <Profile reid_rabara (14517137061)>, <Profile guitar_lane (16645083341)>, <Profile rygrom (1240923455)>, <Profile jameslongcake (9729455147)>, <Profile jimmyredfernn (23320896911)>, <Profile roman_mendozaa (25380461432)>, <Profile miagrundd (1572634229)>, <Profile ben_gromotsky (25462322668)>, <Profile ry_gorski (10125504706)>, <Profile groovetownsound (4160755820)>, <Profile _andrew_lamb_ (9909523541)>, <Profile ___white.rice___ (2004135574)>, <Profile dallaswhite1205 (2976718844)>, <Profile huttonheil (1617363112)>, <Profile landon_gwin (21603594735)>, <Profile tommy.nail13 (2331844201)>, <Profile scruuuuge (18808758755)>, <Profile finnoodle_ (7682050340)>, <Profile ethan.saint (1042584560)>, <Profile 360jeeeezzzzyyyy (10420820127)>, <Profile avz.abeyta (1607758370)>, <Profile d0n0van_harr15 (21875718927)>, <Profile therealjaviiiii (16105535920)>, <Profile iamstehanieray____ (5856535778)>, <Profile annierose.sherwood (8409698688)>, <Profile _sarayang_ (3065477856)>, <Profile brooks_ignosci (21424674122)>, <Profile mads._crawford (8345909194)>, <Profile edu_pedrazzoli (318383081)>, <Profile ashton_peasley (1704824474)>, <Profile aiden.aguayo (3302174629)>, <Profile lipemoala (6003359715)>, <Profile audrey_kemp345 (16888650752)>, <Profile nolan.webb_ (1484976991)>, <Profile karren.uemvar6 (16913740334)>, <Profile marie.gib06 (18262869258)>, <Profile calignosci (6386289409)>, <Profile augustmelschau (3766264858)>, <Profile hilldribe (6756465662)>, <Profile jake.stafff (7566421814)>, <Profile loganw_diver_fisher (7064829276)>, <Profile jackaarmstrong (3935971314)>, <Profile bestampcovers (9731023121)>, <Profile aliannaoliveira (16832743597)>, <Profile matthew_thornton200 (6384043803)>, <Profile mccusker_michaela (13501919303)>, <Profile _mari3.gib_ (7978955907)>, <Profile rroryww (2359684842)>, <Profile lilyvaneee (1708670817)>, <Profile ava.bandura (7920544221)>, <Profile gavinconniff (9857374794)>, <Profile dregala72 (858893223)>, <Profile _patrickmyers (6087015155)>, <Profile llopezaangie (12863396274)>, <Profile wyatt.baren (11180613570)>, <Profile alessiabrown_ (14067451543)>, <Profile marty_rottach (7271644220)>, <Profile mason_borgerding (5327964728)>, <Profile _samcotter_ (5946377389)>, <Profile austin._boyer (7006334170)>, <Profile willpeff_er_ (2097168756)>, <Profile aameliehardyy (3562406200)>, <Profile kira.burke (6058121157)>, <Profile devinmartinezg (4666161227)>, <Profile cheyne.hoesli (2033647357)>, <Profile keananccollins (1813308794)>, <Profile jxnpots (1414155312)>, <Profile sophiabalkhi (9140544762)>, <Profile paul.lambros (5409709620)>, <Profile jackdvlin (5521554224)>, <Profile ashton.saint (2021716625)>, <Profile dahyumjitski (4168696406)>, <Profile danimarking (365261514)>, <Profile tanner.rosenberry (10901433425)>, <Profile luke_villarreal_ (9781897889)>, <Profile jacquelinecerruti (4224712707)>, <Profile stefanosveziris (4317278712)>, <Profile pjflanagan_ (16320356516)>, <Profile royce.richmond.tx (16233185273)>, <Profile colinwallace__ (9239154535)>, <Profile harry_nenn (6919831221)>, <Profile gian.dhingra (5651067735)>, <Profile caseyrc42 (3006628990)>, <Profile kealanicaster (8002531597)>, <Profile delaneywilliiams (3112583534)>, <Profile brock.ddevlin (9959424155)>, <Profile fusionboss23music (14440342500)>, <Profile ethan.messer_ (5313510592)>, <Profile annadilgerr (1968089253)>, <Profile emmalapena (4347467048)>, <Profile sophia.montoya (3898247908)>, <Profile saucy_nba_ (15860191359)>, <Profile ali_ridouan (5641722633)>, <Profile theofficialturdferguson (47979391)>, <Profile apshades (7970313071)>, <Profile regaladokatie (7795928686)>, <Profile alexaregaladoo (22389539)>, <Profile _adam.oman (12511438391)>, <Profile dmitriysmirnov6 (8584559854)>, <Profile staxmonsoon (16420813803)>, <Profile natalie.regalado (177406635)>, <Profile calogero_alfano07 (6244188949)>, <Profile mustafambaluku (15962255395)>, <Profile cr8tnmonsoon (16397242640)>, <Profile guitarrecpro (15789589243)>, <Profile philip_idols (6062279964)>, <Profile fernandomarquesxa (4230195414)>, <Profile nurialealg (5893928752)>, <Profile joseantonioseronperez (5684810014)>, <Profile gui9659 (1182433346)>, <Profile 31hn6 (14563175929)>, <Profile _hereforfitness_ (366604326)>, <Profile muratdemir5091 (3922070569)>]\n"
     ]
    }
   ],
   "source": [
    "x = [x for x in followers]\n",
    "print(x)"
   ]
  },
  {
   "cell_type": "code",
   "execution_count": 124,
   "metadata": {},
   "outputs": [
    {
     "data": {
      "text/plain": [
       "{'z': 3}"
      ]
     },
     "execution_count": 124,
     "metadata": {},
     "output_type": "execute_result"
    }
   ],
   "source": [
    "x = {'p':1, 'z':3}\n",
    "x.pop('p')\n",
    "x"
   ]
  },
  {
   "cell_type": "code",
   "execution_count": 133,
   "metadata": {},
   "outputs": [
    {
     "name": "stdout",
     "output_type": "stream",
     "text": [
      "[1, 2, 3]\n",
      "<class 'str'>\n",
      "[1, 2, 3]\n",
      "<class 'list'>\n"
     ]
    }
   ],
   "source": [
    "import json\n",
    "\n",
    "x = json.dumps([1,2,3])\n",
    "print(x)\n",
    "print(type(x))\n",
    "y = json.loads(x)\n",
    "print(y)\n",
    "print(type(y))"
   ]
  },
  {
   "cell_type": "code",
   "execution_count": 134,
   "metadata": {},
   "outputs": [
    {
     "name": "stdout",
     "output_type": "stream",
     "text": [
      "[1]\n"
     ]
    }
   ],
   "source": [
    "x = [1]\n",
    "print(x[:len(x)])"
   ]
  },
  {
   "cell_type": "code",
   "execution_count": 137,
   "metadata": {},
   "outputs": [
    {
     "name": "stdout",
     "output_type": "stream",
     "text": [
      "['johnny_skulls.1957', 'madi.crawford1', 'mandy.m.james', 'xaavazell', 'julie.morales17', 'barbara_burke_123', 'georgia.williams058', 'lala__1019', 'josefrutos15', 'allison.e.larkins', 'matt.meyer03', 'gretchenvoyer', 'collinn0', 'gwen_kyle2022', 'fialynn_good', 'iamstephanieray', 'jaziaftabi', 'staycelowry', 'lucas_davier22', 'jack.desplinter', 'pozzo_live', 'andrew_s_2023', 'kristine._.32', 'elise.early', 'sydneyschmn', 'thomaszgonzales', 'greyson_moreno', 'l.d.___.b.l', 'wnsiknd', 'guitarras2022', 'lucietiger.music_ab', 'katarina.beans', 'jake.mccraryy', 'austin.goodpaster', 'tyler.russell52', 'jserrasleeping', 'luke_krolo', 'jason_somogyi.37', 'chaney5._', 'talan_tiny_72', 'ghessler34', 'jake_ere', 'mush_59', 'langdon562', 'gio_bucolico', 'rzabran', 'sofiaaroy', 'cash_feldkamp', 'colemckechs', 'chaselynn_', 'seth_davis_92', '_elizabeth_.gonzalez2a', 'nick.guevaraa', 'alex.zabran', 'kainoa._.davis', 'its_not_shea', 'hugo_hart12', 'cate.alexanderr', 'devthoms', 'f.leocadio.stebar', 'juliya_juliya____', 'dbwhite_28', 'grace.medina_', 'ryanhagerty_', 'l.webb10x', 'thom.as05', 'duncanstarkenburg', 'davidtonumaipea', 'jayden.kelsch', 'xiggy_g_12', 'joseph._lambert', 'rayang357', 'westsidedigg', 'hudsonbyrnee', 'will_briggs52', 'colinmckown', 'jake_pacheco4', 'diz_drums', 'seattle_rocks', 'jkswim1', 'siena_lambert', 'laur.kingg', 'austinmichel2', 'farahaslamyar', 'jakebourne._', 'avaknebl', 'katee.mulvihill', 'alex_jordan.at', 'peteeeeeeerrrrrrrrrr', 'scott_mcknight21', 'william_mai14', 'lobowes', 'jagger_prewett', '_alexlugosi', 'lindsey.nhughes', '_bear.harrison', 'braden__wellen', 'andrewwalker675', 'charliecaruso_', 'kasmalahicnybobr', 'gio.cozzetto', 'rynoedwards', 'shaughnesssy_h', 'gideljacob', 'harlow.pat', 'griiiiiiiffin', 'dominic.corado', 'bassam.hajjawi', 'thordadrocks', 'wavejamtracks', '4k.jordann', 'emma.8725', 'amandaeverettttt', 'carsonnatzke_', 'willmcclenahan', 'zo11nick', '5_eddy', 'dmills14_', 'gunnarxwright', 'michelancho', 'delaney._.mills', 'maxuhtrillion', 'mikey.p27', 'angelicazizzo_', 'ronan_goes_outside', 'fuzzyeah', 'micaela.martz', 'music_with_snakeman', 'peyton.guarino', 'ariesvhooper', 'q_and_r_fishing', 'pika.sato', 'jenna_peyton555', 'jordanvelligan', 'samspedal', 'bbnd2021', 'scoc_art', 'gary.morrisonn', 'voodooplayset', 'johgcameron', 'hoodie_tray15', 'boxer.dog.ins', 'sean.ledyard', 't_.yas', 'cameron_maloney', 'jack_hayes941', 'fendervibes', 'foreverbroke___', 'maddie_hall19', 'atomtonl', 'ethancarpenter__', 'hutton.heil', 'guitar_one_music', 'brodie_purcell_39', 'shaun.mccaghren', 'joie.cuevas', 'troy.winningham', 'sam_evv', 'guitarist_voice', 'joon_elisabeth', 'chasejbarry', '_self_destruction_blues_', 'cambrealombardo', 'gabriel_dresser', 'pedalpimp', 'mason_nelligan', 'ashley_duls', '_lucky_francis_', 'delaney_belanger', 'therealg40_', '_rashad_51', 'jserra.baseball', 'nicolaawilsonnn', 'lauren__walcott', 'angelica.zizzo', 'c_dub_40', 'danny_day7', '_nimasamini_', 'juliamessmer_', 'haha_u_fool', 'drkarly_mrsneppl', 'cristianpilimai', 'lukeguttenberg', 'graysonrosal', 'dolan.oliveira', 'saracjameson', 'ysabellapadua', 'max_imhoff33', 'robert.belli', 'bigmanmurf', 'lore.sills', 'christianlaliberte18', 'addison.barrette', 'badcatamps', 'legendary_guitarist1', 'joeyytorrez', 'jedimaster_jackmorris_', 'connor_yates22', 'starcartoonofficial', 'ericriegs', 'jjohnwagner', 'jomcconi_0812', 'sana_sirna', 'logan.wakeling', 'alex.lopezzzx', 'mtthw2000', 'virtualguitarlesson', 'mattfritzmusic', 'jaydensummers_04', 'elle_sterner', 'kaitlinrue', 'zachrmusic', 'lucy.donchess', 'ethanfh19', 'drewstott.music', 'grace_elizzabeth_', 'iceman_cris', 'quickguitarvideos', 'josephsanty_', 'couch_potato_ronan', 'jakealves60', 'khalid_ait7779', 'miia.contreras', '_ava.noelle__', 'r3musicescola', 'dylanduplanty', 'ironsidecustomguitars', 'drew__buffington', 'voidwalkereffects', 'johnnyrubberfingerz', 'jonny_guitar_2012', 'thomasreeves9790', 'abbyviscount', 'nihi578977', 'carebear568901', '143sumon', 'faith.mcadaam', 'parkerharrisonn', 'ryannevillemidnightblues', 'iadamt', 'ashton_on_guitar', 'hooman__1', 'calbneal', 'seamusneppl', 'unknowns.blues', 'mariohuj', '___r.a.d____', 'simosadoun', 'alexandre_nascimento_01', 'jackingwersen', 'adambalkhii', 'mrmaxmarz', 'willschattmaier', '17thstmusicclub', 'veraaschwartzaz', 'cici_chengrt', 'adrian.j.clark', 'alx.jam.clrk', 'coffeehouseguitars', 'wendellsmusic', 'jonny.fong', 'charliedeng__', 'burton_audio', 'dom_dicarlo123', 'annacuzick', 'johsua_thomsa', 'dillon_martin24', 'colinpleigh', 'jack.leslie4', 'davidwmanning', 'white_rice_dump', 'brandon.yung', 'dariusz.33', 'jackson_summers05', 'jayden_g_37', 'joecalo3', 'brendan.cruz', 'cay.rector', 'berniebabyyyy', 'nickstroupe', 'charliejennison', 'dominique.regalado', 'ben_reimers9', 'reid_rabara', 'guitar_lane', 'rygrom', 'jameslongcake', 'jimmyredfernn', 'roman_mendozaa', 'miagrundd', 'ben_gromotsky', 'ry_gorski', 'groovetownsound', '_andrew_lamb_', '___white.rice___', 'dallaswhite1205', 'huttonheil', 'landon_gwin', 'tommy.nail13', 'scruuuuge', 'finnoodle_', 'ethan.saint', '360jeeeezzzzyyyy', 'avz.abeyta', 'd0n0van_harr15', 'therealjaviiiii', 'iamstehanieray____', 'annierose.sherwood', '_sarayang_', 'brooks_ignosci', 'mads._crawford', 'edu_pedrazzoli', 'ashton_peasley', 'aiden.aguayo', 'lipemoala', 'audrey_kemp345', 'nolan.webb_', 'karren.uemvar6', 'marie.gib06', 'calignosci', 'augustmelschau', 'hilldribe', 'jake.stafff', 'loganw_diver_fisher', 'jackaarmstrong', 'bestampcovers', 'aliannaoliveira', 'matthew_thornton200', 'mccusker_michaela', '_mari3.gib_', 'rroryww', 'lilyvaneee', 'ava.bandura', 'gavinconniff', 'dregala72', '_patrickmyers', 'llopezaangie', 'wyatt.baren', 'alessiabrown_', 'marty_rottach', 'mason_borgerding', '_samcotter_', 'austin._boyer', 'willpeff_er_', 'aameliehardyy', 'kira.burke', 'devinmartinezg', 'cheyne.hoesli', 'keananccollins', 'jxnpots', 'sophiabalkhi', 'paul.lambros', 'jackdvlin', 'ashton.saint', 'dahyumjitski', 'danimarking', 'tanner.rosenberry', 'luke_villarreal_', 'jacquelinecerruti', 'stefanosveziris', 'pjflanagan_', 'royce.richmond.tx', 'colinwallace__', 'harry_nenn', 'gian.dhingra', 'caseyrc42', 'kealanicaster', 'delaneywilliiams', 'brock.ddevlin', 'fusionboss23music', 'ethan.messer_', 'annadilgerr', 'emmalapena', 'sophia.montoya', 'saucy_nba_', 'ali_ridouan', 'theofficialturdferguson', 'apshades', 'regaladokatie', 'alexaregaladoo', '_adam.oman', 'dmitriysmirnov6', 'staxmonsoon', 'natalie.regalado', 'calogero_alfano07', 'mustafambaluku', 'cr8tnmonsoon', 'guitarrecpro', 'philip_idols', 'fernandomarquesxa', 'nurialealg', 'joseantonioseronperez', 'gui9659', '31hn6', '_hereforfitness_', 'muratdemir5091']\n"
     ]
    }
   ],
   "source": [
    "with open(r'C:\\Users\\ahuma\\Desktop\\python projects\\Misc Projects\\instagram-analytics\\user_followers\\luke.m.monson_FOLLOWERS.json', 'r') as f:\n",
    "        users = json.loads(f.read())\n",
    "        print(users)"
   ]
  },
  {
   "cell_type": "code",
   "execution_count": 14,
   "metadata": {},
   "outputs": [
    {
     "ename": "TypeError",
     "evalue": "'NodeIterator' object is not subscriptable",
     "output_type": "error",
     "traceback": [
      "\u001b[1;31m---------------------------------------------------------------------------\u001b[0m",
      "\u001b[1;31mTypeError\u001b[0m                                 Traceback (most recent call last)",
      "\u001b[1;32m~\\AppData\\Local\\Temp/ipykernel_20032/3758963381.py\u001b[0m in \u001b[0;36m<module>\u001b[1;34m\u001b[0m\n\u001b[0;32m      1\u001b[0m \u001b[0mtype\u001b[0m\u001b[1;33m(\u001b[0m\u001b[0mfollowers_unprocessed\u001b[0m\u001b[1;33m)\u001b[0m\u001b[1;33m\u001b[0m\u001b[1;33m\u001b[0m\u001b[0m\n\u001b[1;32m----> 2\u001b[1;33m \u001b[0mfollowers_unprocessed\u001b[0m\u001b[1;33m[\u001b[0m\u001b[1;36m5\u001b[0m\u001b[1;33m]\u001b[0m\u001b[1;33m\u001b[0m\u001b[1;33m\u001b[0m\u001b[0m\n\u001b[0m",
      "\u001b[1;31mTypeError\u001b[0m: 'NodeIterator' object is not subscriptable"
     ]
    }
   ],
   "source": [
    "type(followers_unprocessed)\n",
    "followers_unprocessed[5]"
   ]
  },
  {
   "cell_type": "code",
   "execution_count": 16,
   "metadata": {},
   "outputs": [
    {
     "data": {
      "text/plain": [
       "['.git',\n",
       " 'build-database.py',\n",
       " 'instagram_analytics.py',\n",
       " 'instagram_analytics_prototype.ipynb',\n",
       " 'README.md',\n",
       " 'user_database.cypher',\n",
       " 'user_followers',\n",
       " 'user_following',\n",
       " 'user_information']"
      ]
     },
     "execution_count": 16,
     "metadata": {},
     "output_type": "execute_result"
    }
   ],
   "source": [
    "os.listdir()"
   ]
  },
  {
   "cell_type": "code",
   "execution_count": 17,
   "metadata": {},
   "outputs": [
    {
     "ename": "NameError",
     "evalue": "name '__file__' is not defined",
     "output_type": "error",
     "traceback": [
      "\u001b[1;31m---------------------------------------------------------------------------\u001b[0m",
      "\u001b[1;31mNameError\u001b[0m                                 Traceback (most recent call last)",
      "\u001b[1;32m~\\AppData\\Local\\Temp/ipykernel_20032/617050585.py\u001b[0m in \u001b[0;36m<module>\u001b[1;34m\u001b[0m\n\u001b[1;32m----> 1\u001b[1;33m \u001b[0mpwd\u001b[0m \u001b[1;33m=\u001b[0m \u001b[0mos\u001b[0m\u001b[1;33m.\u001b[0m\u001b[0mpath\u001b[0m\u001b[1;33m.\u001b[0m\u001b[0mdirname\u001b[0m\u001b[1;33m(\u001b[0m\u001b[0mos\u001b[0m\u001b[1;33m.\u001b[0m\u001b[0mpath\u001b[0m\u001b[1;33m.\u001b[0m\u001b[0mabspath\u001b[0m\u001b[1;33m(\u001b[0m\u001b[0m__file__\u001b[0m\u001b[1;33m)\u001b[0m\u001b[1;33m)\u001b[0m\u001b[1;33m\u001b[0m\u001b[1;33m\u001b[0m\u001b[0m\n\u001b[0m\u001b[0;32m      2\u001b[0m \u001b[0mpwd\u001b[0m\u001b[1;33m\u001b[0m\u001b[1;33m\u001b[0m\u001b[0m\n",
      "\u001b[1;31mNameError\u001b[0m: name '__file__' is not defined"
     ]
    }
   ],
   "source": []
  }
 ],
 "metadata": {
  "kernelspec": {
   "display_name": "Python 3.10.1 64-bit",
   "language": "python",
   "name": "python3"
  },
  "language_info": {
   "codemirror_mode": {
    "name": "ipython",
    "version": 3
   },
   "file_extension": ".py",
   "mimetype": "text/x-python",
   "name": "python",
   "nbconvert_exporter": "python",
   "pygments_lexer": "ipython3",
   "version": "3.10.1"
  },
  "orig_nbformat": 4,
  "vscode": {
   "interpreter": {
    "hash": "26de051ba29f2982a8de78e945f0abaf191376122a1563185a90213a26c5da77"
   }
  }
 },
 "nbformat": 4,
 "nbformat_minor": 2
}
